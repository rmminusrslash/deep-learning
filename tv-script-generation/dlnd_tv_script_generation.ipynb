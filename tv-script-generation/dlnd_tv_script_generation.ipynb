{
 "cells": [
  {
   "cell_type": "markdown",
   "metadata": {},
   "source": [
    "# TV Script Generation\n",
    "In this project, you'll generate your own [Simpsons](https://en.wikipedia.org/wiki/The_Simpsons) TV scripts using RNNs.  You'll be using part of the [Simpsons dataset](https://www.kaggle.com/wcukierski/the-simpsons-by-the-data) of scripts from 27 seasons.  The Neural Network you'll build will generate a new TV script for a scene at [Moe's Tavern](https://simpsonswiki.com/wiki/Moe's_Tavern).\n",
    "## Get the Data\n",
    "The data is already provided for you.  You'll be using a subset of the original dataset.  It consists of only the scenes in Moe's Tavern.  This doesn't include other versions of the tavern, like \"Moe's Cavern\", \"Flaming Moe's\", \"Uncle Moe's Family Feed-Bag\", etc.."
   ]
  },
  {
   "cell_type": "code",
   "execution_count": 24,
   "metadata": {},
   "outputs": [],
   "source": [
    "\"\"\"\n",
    "DON'T MODIFY ANYTHING IN THIS CELL\n",
    "\"\"\"\n",
    "import helper\n",
    "\n",
    "data_dir = './data/simpsons/moes_tavern_lines.txt'\n",
    "text = helper.load_data(data_dir)\n",
    "# Ignore notice, since we don't use it for analysing the data\n",
    "text = text[81:]"
   ]
  },
  {
   "cell_type": "markdown",
   "metadata": {},
   "source": [
    "## Explore the Data\n",
    "Play around with `view_sentence_range` to view different parts of the data."
   ]
  },
  {
   "cell_type": "code",
   "execution_count": 25,
   "metadata": {},
   "outputs": [
    {
     "name": "stdout",
     "output_type": "stream",
     "text": [
      "overall length 305189\n",
      "Dataset Stats\n",
      "Roughly the number of unique words: 11492\n",
      "Number of scenes: 262\n",
      "Average number of sentences in each scene: 15.248091603053435\n",
      "Number of lines: 4257\n",
      "Average number of words in each line: 11.50434578341555\n",
      "\n",
      "The sentences 0 to 10:\n",
      "Moe_Szyslak: (INTO PHONE) Moe's Tavern. Where the elite meet to drink.\n",
      "Bart_Simpson: Eh, yeah, hello, is Mike there? Last name, Rotch.\n",
      "Moe_Szyslak: (INTO PHONE) Hold on, I'll check. (TO BARFLIES) Mike Rotch. Mike Rotch. Hey, has anybody seen Mike Rotch, lately?\n",
      "Moe_Szyslak: (INTO PHONE) Listen you little puke. One of these days I'm gonna catch you, and I'm gonna carve my name on your back with an ice pick.\n",
      "Moe_Szyslak: What's the matter Homer? You're not your normal effervescent self.\n",
      "Homer_Simpson: I got my problems, Moe. Give me another one.\n",
      "Moe_Szyslak: Homer, hey, you should not drink to forget your problems.\n",
      "Barney_Gumble: Yeah, you should only drink to enhance your social skills.\n",
      "\n",
      "\n"
     ]
    }
   ],
   "source": [
    "view_sentence_range = (0, 10)\n",
    "print(\"overall length\",len(text))\n",
    "\n",
    "\"\"\"\n",
    "DON'T MODIFY ANYTHING IN THIS CELL\n",
    "\"\"\"\n",
    "import numpy as np\n",
    "\n",
    "print('Dataset Stats')\n",
    "print('Roughly the number of unique words: {}'.format(len({word: None for word in text.split()})))\n",
    "scenes = text.split('\\n\\n')\n",
    "print('Number of scenes: {}'.format(len(scenes)))\n",
    "sentence_count_scene = [scene.count('\\n') for scene in scenes]\n",
    "print('Average number of sentences in each scene: {}'.format(np.average(sentence_count_scene)))\n",
    "\n",
    "sentences = [sentence for scene in scenes for sentence in scene.split('\\n')]\n",
    "print('Number of lines: {}'.format(len(sentences)))\n",
    "word_count_sentence = [len(sentence.split()) for sentence in sentences]\n",
    "print('Average number of words in each line: {}'.format(np.average(word_count_sentence)))\n",
    "\n",
    "print()\n",
    "print('The sentences {} to {}:'.format(*view_sentence_range))\n",
    "print('\\n'.join(text.split('\\n')[view_sentence_range[0]:view_sentence_range[1]]))"
   ]
  },
  {
   "cell_type": "code",
   "execution_count": 26,
   "metadata": {},
   "outputs": [
    {
     "name": "stdout",
     "output_type": "stream",
     "text": [
      "The autoreload extension is already loaded. To reload it, use:\n",
      "  %reload_ext autoreload\n"
     ]
    }
   ],
   "source": [
    "%load_ext autoreload\n",
    "%autoreload 2\n",
    "# reoad modules before executing user code.Useful to play around with the tests"
   ]
  },
  {
   "cell_type": "markdown",
   "metadata": {},
   "source": [
    "## Implement Preprocessing Functions\n",
    "The first thing to do to any dataset is preprocessing.  Implement the following preprocessing functions below:\n",
    "- Lookup Table\n",
    "- Tokenize Punctuation\n",
    "\n",
    "### Lookup Table\n",
    "To create a word embedding, you first need to transform the words to ids.  In this function, create two dictionaries:\n",
    "- Dictionary to go from the words to an id, we'll call `vocab_to_int`\n",
    "- Dictionary to go from the id to word, we'll call `int_to_vocab`\n",
    "\n",
    "Return these dictionaries in the following tuple `(vocab_to_int, int_to_vocab)`"
   ]
  },
  {
   "cell_type": "code",
   "execution_count": 27,
   "metadata": {},
   "outputs": [
    {
     "name": "stdout",
     "output_type": "stream",
     "text": [
      "Sample to encode:\n",
      " ['Moe_Szyslak:', '(INTO', 'PHONE)', \"Moe's\", 'Tavern.', 'Where', 'the', 'elite', 'meet', 'to', 'drink.\\nBart_Simpson:', 'Eh,', 'yeah,', 'hello']\n",
      "Vocab_to_int:{'Tavern.': 0, \"Moe's\": 1, 'to': 2, 'Where': 3, 'elite': 4, 'drink.\\nBart_Simpson:': 5, 'Eh,': 6, 'PHONE)': 7, 'hello': 8, 'Moe_Szyslak:': 9, 'yeah,': 10, '(INTO': 11, 'the': 12, 'meet': 13}\n",
      "Int_to_vocab:{0: 'Tavern.', 1: \"Moe's\", 2: 'to', 3: 'Where', 4: 'elite', 5: 'drink.\\nBart_Simpson:', 6: 'Eh,', 7: 'PHONE)', 8: 'hello', 9: 'Moe_Szyslak:', 10: 'yeah,', 11: '(INTO', 12: 'the', 13: 'meet'}\n",
      "Tests Passed\n"
     ]
    }
   ],
   "source": [
    "import numpy as np\n",
    "import problem_unittests as tests\n",
    "\n",
    "def create_lookup_tables(text):\n",
    "    \"\"\"\n",
    "    Create lookup tables for vocabulary\n",
    "    :param text: The text of tv scripts split into words\n",
    "    :return: A tuple of dicts (vocab_to_int, int_to_vocab)\n",
    "    \"\"\"\n",
    "    vocab=list(set(text))\n",
    "    index=range(len(vocab))\n",
    "    vocab_to_int=dict(zip(vocab,index))\n",
    "    int_to_vocab=dict(zip(index,vocab))\n",
    "    return vocab_to_int,int_to_vocab\n",
    "\n",
    "sample=text[:100].split(\" \")\n",
    "print(\"Sample to encode:\\n\", sample)\n",
    "print(\"Vocab_to_int:%s\\nInt_to_vocab:%s\" % create_lookup_tables(sample))\n",
    "\"\"\"\n",
    "DON'T MODIFY ANYTHING IN THIS CELL THAT IS BELOW THIS LINE\n",
    "\"\"\"\n",
    "tests.test_create_lookup_tables(create_lookup_tables)"
   ]
  },
  {
   "cell_type": "markdown",
   "metadata": {},
   "source": [
    "### Tokenize Punctuation\n",
    "We'll be splitting the script into a word array using spaces as delimiters.  However, punctuations like periods and exclamation marks make it hard for the neural network to distinguish between the word \"bye\" and \"bye!\".\n",
    "\n",
    "Implement the function `token_lookup` to return a dict that will be used to tokenize symbols like \"!\" into \"||Exclamation_Mark||\".  Create a dictionary for the following symbols where the symbol is the key and value is the token:\n",
    "- Period ( . )\n",
    "- Comma ( , )\n",
    "- Quotation Mark ( \" )\n",
    "- Semicolon ( ; )\n",
    "- Exclamation mark ( ! )\n",
    "- Question mark ( ? )\n",
    "- Left Parentheses ( ( )\n",
    "- Right Parentheses ( ) )\n",
    "- Dash ( -- )\n",
    "- Return ( \\n )\n",
    "\n",
    "This dictionary will be used to token the symbols and add the delimiter (space) around it.  This separates the symbols as it's own word, making it easier for the neural network to predict on the next word. Make sure you don't use a token that could be confused as a word. Instead of using the token \"dash\", try using something like \"||dash||\"."
   ]
  },
  {
   "cell_type": "code",
   "execution_count": 28,
   "metadata": {},
   "outputs": [
    {
     "name": "stdout",
     "output_type": "stream",
     "text": [
      "Tests Passed\n"
     ]
    }
   ],
   "source": [
    "def token_lookup():\n",
    "    \"\"\"\n",
    "    Generate a dict to turn punctuation into a token.\n",
    "    :return: Tokenize dictionary where the key is the punctuation and the value is the token\n",
    "    \"\"\"\n",
    "    to_replace={\n",
    "       '.':'||Period||', \n",
    "       ',':'||Comma||', \n",
    "       '\"':'||Quotation||', \n",
    "       ';':'||Semicolon||', \n",
    "       '!':'||ExclamationMark||', \n",
    "       '(':'||LParentheses||', \n",
    "       ')':'||RParentheses||', \n",
    "       '--':'||Dash||', \n",
    "       '\\n':'||Return||'  ,\n",
    "        '?':'||QuestionMark||'       \n",
    "\n",
    "    }\n",
    "    return to_replace\n",
    "\n",
    "\"\"\"\n",
    "DON'T MODIFY ANYTHING IN THIS CELL THAT IS BELOW THIS LINE\n",
    "\"\"\"\n",
    "tests.test_tokenize(token_lookup)"
   ]
  },
  {
   "cell_type": "markdown",
   "metadata": {},
   "source": [
    "## Preprocess all the data and save it\n",
    "Running the code cell below will preprocess all the data and save it to file."
   ]
  },
  {
   "cell_type": "code",
   "execution_count": 29,
   "metadata": {},
   "outputs": [],
   "source": [
    "\"\"\"\n",
    "DON'T MODIFY ANYTHING IN THIS CELL\n",
    "\"\"\"\n",
    "# Preprocess Training, Validation, and Testing Data\n",
    "helper.preprocess_and_save_data(data_dir, token_lookup, create_lookup_tables)"
   ]
  },
  {
   "cell_type": "markdown",
   "metadata": {},
   "source": [
    "# Check Point\n",
    "This is your first checkpoint. If you ever decide to come back to this notebook or have to restart the notebook, you can start from here. The preprocessed data has been saved to disk."
   ]
  },
  {
   "cell_type": "code",
   "execution_count": 30,
   "metadata": {},
   "outputs": [],
   "source": [
    "\"\"\"\n",
    "DON'T MODIFY ANYTHING IN THIS CELL\n",
    "\"\"\"\n",
    "import helper\n",
    "import numpy as np\n",
    "import problem_unittests as tests\n",
    "\n",
    "int_text, vocab_to_int, int_to_vocab, token_dict = helper.load_preprocess()"
   ]
  },
  {
   "cell_type": "markdown",
   "metadata": {},
   "source": [
    "## Build the Neural Network\n",
    "You'll build the components necessary to build a RNN by implementing the following functions below:\n",
    "- get_inputs\n",
    "- get_init_cell\n",
    "- get_embed\n",
    "- build_rnn\n",
    "- build_nn\n",
    "- get_batches\n",
    "\n",
    "### Check the Version of TensorFlow and Access to GPU"
   ]
  },
  {
   "cell_type": "code",
   "execution_count": 31,
   "metadata": {},
   "outputs": [
    {
     "name": "stdout",
     "output_type": "stream",
     "text": [
      "TensorFlow Version: 1.0.0\n"
     ]
    },
    {
     "name": "stderr",
     "output_type": "stream",
     "text": [
      "/home/lina/bin/anaconda3/envs/udacity-tv-script/lib/python3.6/site-packages/ipykernel/__main__.py:14: UserWarning: No GPU found. Please use a GPU to train your neural network.\n"
     ]
    }
   ],
   "source": [
    "\"\"\"\n",
    "DON'T MODIFY ANYTHING IN THIS CELL\n",
    "\"\"\"\n",
    "from distutils.version import LooseVersion\n",
    "import warnings\n",
    "import tensorflow as tf\n",
    "\n",
    "# Check TensorFlow Version\n",
    "assert LooseVersion(tf.__version__) >= LooseVersion('1.0'), 'Please use TensorFlow version 1.0 or newer'\n",
    "print('TensorFlow Version: {}'.format(tf.__version__))\n",
    "\n",
    "# Check for a GPU\n",
    "if not tf.test.gpu_device_name():\n",
    "    warnings.warn('No GPU found. Please use a GPU to train your neural network.')\n",
    "else:\n",
    "    print('Default GPU Device: {}'.format(tf.test.gpu_device_name()))"
   ]
  },
  {
   "cell_type": "markdown",
   "metadata": {},
   "source": [
    "### Input\n",
    "Implement the `get_inputs()` function to create TF Placeholders for the Neural Network.  It should create the following placeholders:\n",
    "- Input text placeholder named \"input\" using the [TF Placeholder](https://www.tensorflow.org/api_docs/python/tf/placeholder) `name` parameter.\n",
    "- Targets placeholder\n",
    "- Learning Rate placeholder\n",
    "\n",
    "Return the placeholders in the following tuple `(Input, Targets, LearningRate)`"
   ]
  },
  {
   "cell_type": "code",
   "execution_count": 32,
   "metadata": {},
   "outputs": [
    {
     "name": "stdout",
     "output_type": "stream",
     "text": [
      "Tests Passed\n"
     ]
    }
   ],
   "source": [
    "def get_inputs():\n",
    "    \"\"\"\n",
    "    Create TF Placeholders for input, targets, and learning rate.\n",
    "    :return: Tuple (input, targets, learning rate)\n",
    "    \"\"\"\n",
    "    inputs=tf.placeholder(dtype=tf.int32,name=\"input\", shape=(None,None)) # Batchsize x Sequence Length\n",
    "    targets=tf.placeholder(dtype=tf.int32,name=\"target\",shape=(None,None)) # Batchsize x Sequence Length\n",
    "    learning_rate=tf.placeholder(dtype=tf.float32,name=\"learning_rate\")\n",
    "    return inputs,targets,learning_rate\n",
    "\n",
    "\"\"\"\n",
    "DON'T MODIFY ANYTHING IN THIS CELL THAT IS BELOW THIS LINE\n",
    "\"\"\"\n",
    "tests.test_get_inputs(get_inputs)"
   ]
  },
  {
   "cell_type": "markdown",
   "metadata": {},
   "source": [
    "### Build RNN Cell and Initialize\n",
    "Stack one or more [`BasicLSTMCells`](https://www.tensorflow.org/api_docs/python/tf/contrib/rnn/BasicLSTMCell) in a [`MultiRNNCell`](https://www.tensorflow.org/api_docs/python/tf/contrib/rnn/MultiRNNCell).\n",
    "- The Rnn size should be set using `rnn_size`\n",
    "- Initalize Cell State using the MultiRNNCell's [`zero_state()`](https://www.tensorflow.org/api_docs/python/tf/contrib/rnn/MultiRNNCell#zero_state) function\n",
    "    - Apply the name \"initial_state\" to the initial state using [`tf.identity()`](https://www.tensorflow.org/api_docs/python/tf/identity)\n",
    "\n",
    "Return the cell and initial state in the following tuple `(Cell, InitialState)`"
   ]
  },
  {
   "cell_type": "code",
   "execution_count": 33,
   "metadata": {},
   "outputs": [
    {
     "name": "stdout",
     "output_type": "stream",
     "text": [
      "Tests Passed\n"
     ]
    }
   ],
   "source": [
    "def get_init_cell(batch_size, rnn_size):\n",
    "    \"\"\"\n",
    "    Create an RNN Cell and initialize it.\n",
    "    :param batch_size: Size of batches\n",
    "    :param rnn_size: Size of RNNs\n",
    "    :return: Tuple (cell, initialize state)\n",
    "    \"\"\"\n",
    "    num_layers=1\n",
    "    cell = tf.contrib.rnn.BasicLSTMCell(rnn_size)\n",
    "    stacked_lstm = tf.contrib.rnn.MultiRNNCell([cell] * num_layers)\n",
    "    initial_state = stacked_lstm.zero_state(batch_size, tf.float32)\n",
    "    initial_state=tf.identity(initial_state, name=\"initial_state\")\n",
    "    \n",
    "    return stacked_lstm, initial_state\n",
    " \n",
    "\"\"\"\n",
    "DON'T MODIFY ANYTHING IN THIS CELL THAT IS BELOW THIS LINE\n",
    "\"\"\"\n",
    "tests.test_get_init_cell(get_init_cell)"
   ]
  },
  {
   "cell_type": "markdown",
   "metadata": {},
   "source": [
    "### Word Embedding\n",
    "Apply embedding to `input_data` using TensorFlow.  Return the embedded sequence."
   ]
  },
  {
   "cell_type": "code",
   "execution_count": 34,
   "metadata": {},
   "outputs": [
    {
     "name": "stdout",
     "output_type": "stream",
     "text": [
      "additional test passed\n",
      "Tests Passed\n"
     ]
    }
   ],
   "source": [
    "def get_embed(input_data, vocab_size, embed_dim):\n",
    "    \"\"\"\n",
    "    Create embedding for <input_data>.\n",
    "    :param input_data: TF placeholder for text input.\n",
    "    :param vocab_size: Number of words in vocabulary.\n",
    "    :param embed_dim: Number of embedding dimensions\n",
    "    :return: Embedded input.\n",
    "    \"\"\"\n",
    "    embedding = tf.get_variable(\"embedding\",shape=[vocab_size, embed_dim])\n",
    "    inputs = tf.nn.embedding_lookup(embedding, input_data)    \n",
    "    return inputs\n",
    " \n",
    "# add additional test     \n",
    "def test_input_out_of_vocab_size(get_embed):\n",
    "    with tf.Graph().as_default() as g:\n",
    "        test_input_data = tf.placeholder(tf.int32, [2,3]) # numsequences x num characters\n",
    "        test_vocab_size = 27\n",
    "        test_embed_dim = 256\n",
    "        embed = get_embed(test_input_data, test_vocab_size, test_embed_dim)\n",
    "        sess = tf.InteractiveSession(graph=g)\n",
    "        sess.run(tf.global_variables_initializer())\n",
    "        feed = {test_input_data: [[1,2,3],[1,2,26]]} # all indices within test_vocab_size\n",
    "        sess.run(embed, feed)\n",
    "        try:\n",
    "            feed = {test_input_data: [[1,2,3],[1,2,32]]} # 32 is not within test_vocab_size\n",
    "\n",
    "            print(sess.run(embed, feed))\n",
    "        except tf.errors.InvalidArgumentError:\n",
    "            print(\"additional test passed\")\n",
    "          \n",
    "test_input_out_of_vocab_size(get_embed)\n",
    "    \n",
    "\"\"\"\n",
    "DON'T MODIFY ANYTHING IN THIS CELL THAT IS BELOW THIS LINE\n",
    "\"\"\"\n",
    "tests.test_get_embed(get_embed)"
   ]
  },
  {
   "cell_type": "markdown",
   "metadata": {},
   "source": [
    "### Build RNN\n",
    "You created a RNN Cell in the `get_init_cell()` function.  Time to use the cell to create a RNN.\n",
    "- Build the RNN using the [`tf.nn.dynamic_rnn()`](https://www.tensorflow.org/api_docs/python/tf/nn/dynamic_rnn)\n",
    " - Apply the name \"final_state\" to the final state using [`tf.identity()`](https://www.tensorflow.org/api_docs/python/tf/identity)\n",
    "\n",
    "Return the outputs and final_state state in the following tuple `(Outputs, FinalState)` "
   ]
  },
  {
   "cell_type": "code",
   "execution_count": 12,
   "metadata": {},
   "outputs": [
    {
     "name": "stdout",
     "output_type": "stream",
     "text": [
      "Tests Passed\n"
     ]
    }
   ],
   "source": [
    "def build_rnn(cell, inputs):\n",
    "    \"\"\"\n",
    "    Create a RNN using a RNN Cell\n",
    "    :param cell: RNN Cell\n",
    "    :param inputs: Input text data\n",
    "    :return: Tuple (Outputs, Final State)\n",
    "    \"\"\"\n",
    "    # 'outputs' is a tensor of shape [batch_size, max_time, rnn_size]\n",
    "    # 'state' is a N-tuple where N is the number of LSTMCells containing a\n",
    "    # tf.contrib.rnn.LSTMStateTuple for each cell\n",
    "    outputs, state = tf.nn.dynamic_rnn(cell, inputs,dtype=tf.float32)\n",
    "    state=tf.identity(state, name=\"final_state\")\n",
    "    return  outputs, state\n",
    "\n",
    "\"\"\"\n",
    "DON'T MODIFY ANYTHING IN THIS CELL THAT IS BELOW THIS LINE\n",
    "\"\"\"\n",
    "tests.test_build_rnn(build_rnn)"
   ]
  },
  {
   "cell_type": "markdown",
   "metadata": {},
   "source": [
    "### Build the Neural Network\n",
    "Apply the functions you implemented above to:\n",
    "- Apply embedding to `input_data` using your `get_embed(input_data, vocab_size, embed_dim)` function.\n",
    "- Build RNN using `cell` and your `build_rnn(cell, inputs)` function.\n",
    "- Apply a fully connected layer with a linear activation and `vocab_size` as the number of outputs.\n",
    "\n",
    "Return the logits and final state in the following tuple (Logits, FinalState) "
   ]
  },
  {
   "cell_type": "code",
   "execution_count": 35,
   "metadata": {},
   "outputs": [
    {
     "name": "stdout",
     "output_type": "stream",
     "text": [
      "Tests Passed\n"
     ]
    }
   ],
   "source": [
    "def build_nn(cell, rnn_size, input_data, vocab_size, embed_dim):\n",
    "    \"\"\"\n",
    "    Build part of the neural network\n",
    "    :param cell: RNN cell\n",
    "    :param rnn_size: Size of rnns\n",
    "    :param input_data: Input data\n",
    "    :param vocab_size: Vocabulary size\n",
    "    :param embed_dim: Number of embedding dimensions\n",
    "    :return: Tuple (Logits, FinalState)\n",
    "    \"\"\"\n",
    "    inputs=get_embed(input_data, vocab_size, embed_dim)\n",
    "    outputs, final_state=build_rnn(cell, inputs)\n",
    "    logits= tf.contrib.layers.fully_connected(outputs,num_outputs=vocab_size,activation_fn=None)\n",
    "        \n",
    "    return logits, final_state\n",
    "\n",
    "\n",
    "\"\"\"\n",
    "DON'T MODIFY ANYTHING IN THIS CELL THAT IS BELOW THIS LINE\n",
    "\"\"\"\n",
    "tests.test_build_nn(build_nn)"
   ]
  },
  {
   "cell_type": "markdown",
   "metadata": {},
   "source": [
    "### Batches\n",
    "Implement `get_batches` to create batches of input and targets using `int_text`.  The batches should be a Numpy array with the shape `(number of batches, 2, batch size, sequence length)`. Each batch contains two elements:\n",
    "- The first element is a single batch of **input** with the shape `[batch size, sequence length]`\n",
    "- The second element is a single batch of **targets** with the shape `[batch size, sequence length]`\n",
    "\n",
    "If you can't fill the last batch with enough data, drop the last batch.\n",
    "\n",
    "For example, `get_batches([1, 2, 3, 4, 5, 6, 7, 8, 9, 10, 11, 12, 13, 14, 15, 16, 17, 18, 19, 20], 3, 2)` would return a Numpy array of the following:\n",
    "```\n",
    "[\n",
    "  # First Batch\n",
    "  [\n",
    "    # Batch of Input\n",
    "    [[ 1  2], [ 7  8], [13 14]]\n",
    "    # Batch of targets\n",
    "    [[ 2  3], [ 8  9], [14 15]]\n",
    "  ]\n",
    "\n",
    "  # Second Batch\n",
    "  [\n",
    "    # Batch of Input\n",
    "    [[ 3  4], [ 9 10], [15 16]]\n",
    "    # Batch of targets\n",
    "    [[ 4  5], [10 11], [16 17]]\n",
    "  ]\n",
    "\n",
    "  # Third Batch\n",
    "  [\n",
    "    # Batch of Input\n",
    "    [[ 5  6], [11 12], [17 18]]\n",
    "    # Batch of targets\n",
    "    [[ 6  7], [12 13], [18  1]]\n",
    "  ]\n",
    "]\n",
    "```\n",
    "\n",
    "Notice that the last target value in the last batch is the first input value of the first batch. In this case, `1`. This is a common technique used when creating sequence batches, although it is rather unintuitive."
   ]
  },
  {
   "cell_type": "code",
   "execution_count": 36,
   "metadata": {
    "scrolled": true
   },
   "outputs": [
    {
     "name": "stdout",
     "output_type": "stream",
     "text": [
      "Tests Passed\n"
     ]
    }
   ],
   "source": [
    "def get_batches(int_text, batch_size, seq_length):\n",
    "    \"\"\"\n",
    "    Return batches of input and target\n",
    "    :param int_text: Text with the words replaced by their ids\n",
    "    :param batch_size: The size of batch\n",
    "    :param seq_length: The length of sequence\n",
    "    :return: Batches as a Numpy array\n",
    "    \"\"\"\n",
    "    num_char_in_batch=batch_size*seq_length # C\n",
    "    full_batches=len(int_text)//num_char_in_batch \n",
    "    remainder=len(int_text) % num_char_in_batch\n",
    "    cropped=int_text[:-remainder]\n",
    "       \n",
    "    # make as many rows as examples in a batch (batch_size)\n",
    "    cropped=np.reshape(cropped, (batch_size,-1)) \n",
    "    batches=[]\n",
    "   \n",
    "    shift=1 #shift for the target\n",
    "    for n in range(0,cropped.shape[1],seq_length):\n",
    "        # Slide over the rows, creating one sequence for all rows in each step\n",
    "        feature = cropped[:, n:n+seq_length] # B x S\n",
    "        target_tmp = cropped[:, n+shift:n+seq_length+shift] \n",
    "\n",
    "        # For the very last batch, the targets will be as many characters short at the end of \n",
    "        # the sequences as the shift value. That breaks things \n",
    "        # since the target are no longer of the same size across batches. \n",
    "        # To get around this, I'll make an array of the appropriate size first, of all zeros, then add the targets.\n",
    "        # For all batches but the last one that will not change anything\n",
    "        # The last batch however will be padded with zeros \n",
    "        target = np.zeros(feature.shape, dtype=feature.dtype)\n",
    "        target[:,:target_tmp.shape[1]] = target_tmp \n",
    "        batches.append((feature,target))\n",
    "    return np.array(batches)\n",
    "\n",
    "\n",
    "\"\"\"\n",
    "DON'T MODIFY ANYTHING IN THIS CELL THAT IS BELOW THIS LINE\n",
    "\"\"\"\n",
    "tests.test_get_batches(get_batches)"
   ]
  },
  {
   "cell_type": "markdown",
   "metadata": {},
   "source": [
    "## Neural Network Training\n",
    "### Hyperparameters\n",
    "Tune the following parameters:\n",
    "\n",
    "- Set `num_epochs` to the number of epochs.\n",
    "- Set `batch_size` to the batch size.\n",
    "- Set `rnn_size` to the size of the RNNs.\n",
    "- Set `embed_dim` to the size of the embedding.\n",
    "- Set `seq_length` to the length of sequence.\n",
    "- Set `learning_rate` to the learning rate.\n",
    "- Set `show_every_n_batches` to the number of batches the neural network should print progress."
   ]
  },
  {
   "cell_type": "code",
   "execution_count": 37,
   "metadata": {},
   "outputs": [],
   "source": [
    "# Number of Epochs\n",
    "num_epochs = 100  # 50 is ok to drop under the required threshold\n",
    "# Batch Size\n",
    "batch_size = 128\n",
    "# RNN Size\n",
    "rnn_size = 256\n",
    "# Embedding Dimension Size\n",
    "embed_dim = 256 \n",
    "# Sequence Length\n",
    "seq_length = 25\n",
    "# Learning Rate\n",
    "learning_rate = 0.01\n",
    "# Show stats for every n number of batches\n",
    "show_every_n_batches = 10\n",
    "\n",
    "\n",
    "\"\"\"\n",
    "DON'T MODIFY ANYTHING IN THIS CELL THAT IS BELOW THIS LINE\n",
    "\"\"\"\n",
    "save_dir = './save'"
   ]
  },
  {
   "cell_type": "markdown",
   "metadata": {},
   "source": [
    "### Build the Graph\n",
    "Build the graph using the neural network you implemented."
   ]
  },
  {
   "cell_type": "code",
   "execution_count": 38,
   "metadata": {},
   "outputs": [],
   "source": [
    "\"\"\"\n",
    "DON'T MODIFY ANYTHING IN THIS CELL\n",
    "\"\"\"\n",
    "from tensorflow.contrib import seq2seq\n",
    "\n",
    "train_graph = tf.Graph()\n",
    "with train_graph.as_default():\n",
    "    vocab_size = len(int_to_vocab)\n",
    "    input_text, targets, lr = get_inputs()\n",
    "    input_data_shape = tf.shape(input_text)\n",
    "    cell, initial_state = get_init_cell(input_data_shape[0], rnn_size)\n",
    "    logits, final_state = build_nn(cell, rnn_size, input_text, vocab_size, embed_dim)\n",
    "\n",
    "    # Probabilities for generating words\n",
    "    probs = tf.nn.softmax(logits, name='probs')\n",
    "\n",
    "    # Loss function\n",
    "    cost = seq2seq.sequence_loss(\n",
    "        logits,\n",
    "        targets,\n",
    "        tf.ones([input_data_shape[0], input_data_shape[1]]))\n",
    "\n",
    "    # Optimizer\n",
    "    optimizer = tf.train.AdamOptimizer(lr)\n",
    "\n",
    "    # Gradient Clipping\n",
    "    gradients = optimizer.compute_gradients(cost)\n",
    "    capped_gradients = [(tf.clip_by_value(grad, -1., 1.), var) for grad, var in gradients if grad is not None]\n",
    "    train_op = optimizer.apply_gradients(capped_gradients)"
   ]
  },
  {
   "cell_type": "markdown",
   "metadata": {},
   "source": [
    "## Train\n",
    "Train the neural network on the preprocessed data.  If you have a hard time getting a good loss, check the [forums](https://discussions.udacity.com/) to see if anyone is having the same problem."
   ]
  },
  {
   "cell_type": "code",
   "execution_count": 23,
   "metadata": {},
   "outputs": [
    {
     "name": "stdout",
     "output_type": "stream",
     "text": [
      "Epoch   0 Batch    0/20 b_duration = 2.86s  train_loss = 8.822 validation loss = 8.807\n",
      "Epoch   0 Batch   10/20 b_duration = 2.77s  train_loss = 6.899 validation loss = 6.849\n",
      "Total time for epoch 57.789757 secs \n",
      "Model Trained and Saved\n",
      "Epoch   1 Batch    0/20 b_duration = 3.50s  train_loss = 6.847 validation loss = 6.595\n",
      "Epoch   1 Batch   10/20 b_duration = 3.55s  train_loss = 6.276 validation loss = 6.366\n",
      "Total time for epoch 78.822831 secs \n",
      "Model Trained and Saved\n",
      "Epoch   2 Batch    0/20 b_duration = 4.21s  train_loss = 6.361 validation loss = 6.367\n",
      "Epoch   2 Batch   10/20 b_duration = 5.36s  train_loss = 6.303 validation loss = 6.360\n",
      "Total time for epoch 102.627934 secs \n",
      "Model Trained and Saved\n",
      "Epoch   3 Batch    0/20 b_duration = 4.07s  train_loss = 6.274 validation loss = 6.364\n",
      "Epoch   3 Batch   10/20 b_duration = 4.70s  train_loss = 6.241 validation loss = 6.340\n",
      "Total time for epoch 100.188702 secs \n",
      "Model Trained and Saved\n",
      "Epoch   4 Batch    0/20 b_duration = 5.57s  train_loss = 6.266 validation loss = 6.333\n",
      "Epoch   4 Batch   10/20 b_duration = 5.09s  train_loss = 6.280 validation loss = 6.330\n",
      "Total time for epoch 106.034742 secs \n",
      "Model Trained and Saved\n",
      "Epoch   5 Batch    0/20 b_duration = 4.32s  train_loss = 6.247 validation loss = 6.324\n",
      "Epoch   5 Batch   10/20 b_duration = 4.65s  train_loss = 6.275 validation loss = 6.343\n",
      "Total time for epoch 95.690309 secs \n",
      "Model Trained and Saved\n",
      "Epoch   6 Batch    0/20 b_duration = 5.35s  train_loss = 6.275 validation loss = 6.373\n",
      "Epoch   6 Batch   10/20 b_duration = 5.38s  train_loss = 6.254 validation loss = 6.324\n",
      "Total time for epoch 107.103953 secs \n",
      "Model Trained and Saved\n",
      "Epoch   7 Batch    0/20 b_duration = 4.90s  train_loss = 6.249 validation loss = 6.320\n",
      "Epoch   7 Batch   10/20 b_duration = 5.35s  train_loss = 6.260 validation loss = 6.319\n",
      "Total time for epoch 108.158529 secs \n",
      "Model Trained and Saved\n",
      "Epoch   8 Batch    0/20 b_duration = 5.21s  train_loss = 6.232 validation loss = 6.331\n",
      "Epoch   8 Batch   10/20 b_duration = 5.54s  train_loss = 6.239 validation loss = 6.308\n",
      "Total time for epoch 108.206716 secs \n",
      "Model Trained and Saved\n",
      "Epoch   9 Batch    0/20 b_duration = 4.74s  train_loss = 6.224 validation loss = 6.314\n",
      "Epoch   9 Batch   10/20 b_duration = 5.15s  train_loss = 6.230 validation loss = 6.318\n",
      "Total time for epoch 102.157237 secs \n",
      "Model Trained and Saved\n",
      "Epoch  10 Batch    0/20 b_duration = 4.56s  train_loss = 6.209 validation loss = 6.317\n",
      "Epoch  10 Batch   10/20 b_duration = 5.01s  train_loss = 6.212 validation loss = 6.297\n",
      "Total time for epoch 102.144999 secs \n",
      "Model Trained and Saved\n",
      "Epoch  11 Batch    0/20 b_duration = 4.60s  train_loss = 6.193 validation loss = 6.281\n",
      "Epoch  11 Batch   10/20 b_duration = 4.80s  train_loss = 6.210 validation loss = 6.254\n",
      "Total time for epoch 99.031452 secs \n",
      "Model Trained and Saved\n",
      "Epoch  12 Batch    0/20 b_duration = 4.97s  train_loss = 6.175 validation loss = 6.274\n",
      "Epoch  12 Batch   10/20 b_duration = 5.32s  train_loss = 6.158 validation loss = 6.265\n",
      "Total time for epoch 107.437736 secs \n",
      "Model Trained and Saved\n",
      "Epoch  13 Batch    0/20 b_duration = 5.23s  train_loss = 6.151 validation loss = 6.276\n",
      "Epoch  13 Batch   10/20 b_duration = 5.39s  train_loss = 6.162 validation loss = 6.263\n",
      "Total time for epoch 110.435143 secs \n",
      "Model Trained and Saved\n",
      "Epoch  14 Batch    0/20 b_duration = 5.03s  train_loss = 6.154 validation loss = 6.256\n",
      "Epoch  14 Batch   10/20 b_duration = 5.53s  train_loss = 6.138 validation loss = 6.257\n",
      "Total time for epoch 112.984688 secs \n",
      "Model Trained and Saved\n",
      "Epoch  15 Batch    0/20 b_duration = 5.31s  train_loss = 6.137 validation loss = 6.267\n",
      "Epoch  15 Batch   10/20 b_duration = 5.69s  train_loss = 6.135 validation loss = 6.268\n",
      "Total time for epoch 112.303670 secs \n",
      "Model Trained and Saved\n",
      "Epoch  16 Batch    0/20 b_duration = 4.88s  train_loss = 6.111 validation loss = 6.272\n",
      "Epoch  16 Batch   10/20 b_duration = 5.68s  train_loss = 6.134 validation loss = 6.265\n",
      "Total time for epoch 113.998518 secs \n",
      "Model Trained and Saved\n",
      "Epoch  17 Batch    0/20 b_duration = 5.15s  train_loss = 6.121 validation loss = 6.278\n",
      "Epoch  17 Batch   10/20 b_duration = 5.61s  train_loss = 6.126 validation loss = 6.262\n",
      "Total time for epoch 114.434370 secs \n",
      "Model Trained and Saved\n",
      "Epoch  18 Batch    0/20 b_duration = 5.28s  train_loss = 6.109 validation loss = 6.265\n",
      "Epoch  18 Batch   10/20 b_duration = 5.55s  train_loss = 6.120 validation loss = 6.262\n",
      "Total time for epoch 110.951169 secs \n",
      "Model Trained and Saved\n",
      "Epoch  19 Batch    0/20 b_duration = 7.19s  train_loss = 6.097 validation loss = 6.283\n",
      "Epoch  19 Batch   10/20 b_duration = 5.58s  train_loss = 6.106 validation loss = 6.271\n",
      "Total time for epoch 109.758321 secs \n",
      "Model Trained and Saved\n",
      "Epoch  20 Batch    0/20 b_duration = 5.65s  train_loss = 6.086 validation loss = 6.269\n",
      "Epoch  20 Batch   10/20 b_duration = 5.82s  train_loss = 6.111 validation loss = 6.259\n",
      "Total time for epoch 111.434919 secs \n",
      "Model Trained and Saved\n",
      "Epoch  21 Batch    0/20 b_duration = 5.05s  train_loss = 6.069 validation loss = 6.273\n",
      "Epoch  21 Batch   10/20 b_duration = 5.89s  train_loss = 6.104 validation loss = 6.262\n",
      "Total time for epoch 114.468444 secs \n",
      "Model Trained and Saved\n",
      "Epoch  22 Batch    0/20 b_duration = 5.41s  train_loss = 6.057 validation loss = 6.268\n",
      "Epoch  22 Batch   10/20 b_duration = 5.45s  train_loss = 6.080 validation loss = 6.254\n",
      "Total time for epoch 109.471744 secs \n",
      "Model Trained and Saved\n",
      "Epoch  23 Batch    0/20 b_duration = 4.98s  train_loss = 6.056 validation loss = 6.267\n",
      "Epoch  23 Batch   10/20 b_duration = 5.49s  train_loss = 6.060 validation loss = 6.235\n",
      "Total time for epoch 113.769584 secs \n",
      "Model Trained and Saved\n",
      "Epoch  24 Batch    0/20 b_duration = 5.04s  train_loss = 6.020 validation loss = 6.235\n",
      "Epoch  24 Batch   10/20 b_duration = 5.34s  train_loss = 6.033 validation loss = 6.212\n",
      "Total time for epoch 103.677157 secs \n",
      "Model Trained and Saved\n",
      "Epoch  25 Batch    0/20 b_duration = 5.07s  train_loss = 5.991 validation loss = 6.229\n",
      "Epoch  25 Batch   10/20 b_duration = 5.15s  train_loss = 5.982 validation loss = 6.227\n",
      "Total time for epoch 100.639466 secs \n",
      "Model Trained and Saved\n",
      "Epoch  26 Batch    0/20 b_duration = 4.35s  train_loss = 5.959 validation loss = 6.262\n",
      "Epoch  26 Batch   10/20 b_duration = 3.75s  train_loss = 5.888 validation loss = 6.133\n",
      "Total time for epoch 71.445102 secs \n",
      "Model Trained and Saved\n",
      "Epoch  27 Batch    0/20 b_duration = 3.10s  train_loss = 5.786 validation loss = 6.040\n",
      "Epoch  27 Batch   10/20 b_duration = 2.95s  train_loss = 5.552 validation loss = 5.827\n",
      "Total time for epoch 60.688121 secs \n",
      "Model Trained and Saved\n",
      "Epoch  28 Batch    0/20 b_duration = 2.64s  train_loss = 5.421 validation loss = 5.706\n",
      "Epoch  28 Batch   10/20 b_duration = 2.77s  train_loss = 5.291 validation loss = 5.611\n",
      "Total time for epoch 56.582191 secs \n",
      "Model Trained and Saved\n",
      "Epoch  29 Batch    0/20 b_duration = 2.75s  train_loss = 5.148 validation loss = 5.517\n",
      "Epoch  29 Batch   10/20 b_duration = 3.23s  train_loss = 5.100 validation loss = 5.526\n",
      "Total time for epoch 64.475949 secs \n",
      "Model Trained and Saved\n",
      "Epoch  30 Batch    0/20 b_duration = 3.83s  train_loss = 4.970 validation loss = 5.467\n",
      "Epoch  30 Batch   10/20 b_duration = 3.50s  train_loss = 4.952 validation loss = 5.478\n",
      "Total time for epoch 69.128290 secs \n",
      "Model Trained and Saved\n",
      "Epoch  31 Batch    0/20 b_duration = 3.02s  train_loss = 4.792 validation loss = 5.434\n",
      "Epoch  31 Batch   10/20 b_duration = 3.19s  train_loss = 4.798 validation loss = 5.412\n",
      "Total time for epoch 63.529215 secs \n",
      "Model Trained and Saved\n",
      "Epoch  32 Batch    0/20 b_duration = 2.94s  train_loss = 4.662 validation loss = 5.420\n",
      "Epoch  32 Batch   10/20 b_duration = 3.27s  train_loss = 4.686 validation loss = 5.405\n",
      "Total time for epoch 65.997704 secs \n",
      "Model Trained and Saved\n",
      "Epoch  33 Batch    0/20 b_duration = 3.08s  train_loss = 4.558 validation loss = 5.454\n",
      "Epoch  33 Batch   10/20 b_duration = 3.33s  train_loss = 4.593 validation loss = 5.392\n",
      "Total time for epoch 67.232215 secs \n",
      "Model Trained and Saved\n",
      "Epoch  34 Batch    0/20 b_duration = 3.14s  train_loss = 4.442 validation loss = 5.411\n",
      "Epoch  34 Batch   10/20 b_duration = 3.26s  train_loss = 4.500 validation loss = 5.386\n",
      "Total time for epoch 68.144666 secs \n"
     ]
    },
    {
     "name": "stdout",
     "output_type": "stream",
     "text": [
      "Model Trained and Saved\n",
      "Epoch  35 Batch    0/20 b_duration = 3.14s  train_loss = 4.378 validation loss = 5.435\n",
      "Epoch  35 Batch   10/20 b_duration = 3.20s  train_loss = 4.403 validation loss = 5.425\n",
      "Total time for epoch 66.205586 secs \n",
      "Model Trained and Saved\n",
      "Epoch  36 Batch    0/20 b_duration = 3.14s  train_loss = 4.283 validation loss = 5.422\n",
      "Epoch  36 Batch   10/20 b_duration = 3.32s  train_loss = 4.330 validation loss = 5.444\n",
      "Total time for epoch 66.118347 secs \n",
      "Model Trained and Saved\n",
      "Epoch  37 Batch    0/20 b_duration = 3.21s  train_loss = 4.196 validation loss = 5.426\n",
      "Epoch  37 Batch   10/20 b_duration = 3.32s  train_loss = 4.238 validation loss = 5.481\n",
      "Total time for epoch 66.399757 secs \n",
      "Model Trained and Saved\n",
      "Epoch  38 Batch    0/20 b_duration = 3.65s  train_loss = 4.101 validation loss = 5.437\n",
      "Epoch  38 Batch   10/20 b_duration = 3.44s  train_loss = 4.197 validation loss = 5.500\n",
      "Total time for epoch 69.724475 secs \n",
      "Model Trained and Saved\n",
      "Epoch  39 Batch    0/20 b_duration = 4.02s  train_loss = 4.038 validation loss = 5.463\n",
      "Epoch  39 Batch   10/20 b_duration = 3.62s  train_loss = 4.122 validation loss = 5.513\n",
      "Total time for epoch 73.000059 secs \n",
      "Model Trained and Saved\n",
      "Epoch  40 Batch    0/20 b_duration = 4.40s  train_loss = 3.994 validation loss = 5.489\n",
      "Epoch  40 Batch   10/20 b_duration = 3.74s  train_loss = 4.053 validation loss = 5.526\n"
     ]
    },
    {
     "ename": "KeyboardInterrupt",
     "evalue": "",
     "output_type": "error",
     "traceback": [
      "\u001b[0;31m---------------------------------------------------------------------------\u001b[0m",
      "\u001b[0;31mKeyboardInterrupt\u001b[0m                         Traceback (most recent call last)",
      "\u001b[0;32m<ipython-input-23-1802f76d8626>\u001b[0m in \u001b[0;36m<module>\u001b[0;34m()\u001b[0m\n\u001b[1;32m     20\u001b[0m                 \u001b[0minitial_state\u001b[0m\u001b[0;34m:\u001b[0m \u001b[0mstate\u001b[0m\u001b[0;34m,\u001b[0m\u001b[0;34m\u001b[0m\u001b[0m\n\u001b[1;32m     21\u001b[0m                 lr: learning_rate}\n\u001b[0;32m---> 22\u001b[0;31m             \u001b[0mtrain_loss\u001b[0m\u001b[0;34m,\u001b[0m \u001b[0mstate\u001b[0m\u001b[0;34m,\u001b[0m \u001b[0m_\u001b[0m \u001b[0;34m=\u001b[0m \u001b[0msess\u001b[0m\u001b[0;34m.\u001b[0m\u001b[0mrun\u001b[0m\u001b[0;34m(\u001b[0m\u001b[0;34m[\u001b[0m\u001b[0mcost\u001b[0m\u001b[0;34m,\u001b[0m \u001b[0mfinal_state\u001b[0m\u001b[0;34m,\u001b[0m \u001b[0mtrain_op\u001b[0m\u001b[0;34m]\u001b[0m\u001b[0;34m,\u001b[0m \u001b[0mfeed\u001b[0m\u001b[0;34m)\u001b[0m\u001b[0;34m\u001b[0m\u001b[0m\n\u001b[0m\u001b[1;32m     23\u001b[0m             \u001b[0mduration\u001b[0m\u001b[0;34m.\u001b[0m\u001b[0mappend\u001b[0m\u001b[0;34m(\u001b[0m\u001b[0mtime\u001b[0m\u001b[0;34m.\u001b[0m\u001b[0mtime\u001b[0m\u001b[0;34m(\u001b[0m\u001b[0;34m)\u001b[0m\u001b[0;34m-\u001b[0m\u001b[0mstart_time\u001b[0m\u001b[0;34m)\u001b[0m\u001b[0;34m\u001b[0m\u001b[0m\n\u001b[1;32m     24\u001b[0m \u001b[0;34m\u001b[0m\u001b[0m\n",
      "\u001b[0;32m/home/lina/bin/anaconda3/envs/udacity-tv-script/lib/python3.6/site-packages/tensorflow/python/client/session.py\u001b[0m in \u001b[0;36mrun\u001b[0;34m(self, fetches, feed_dict, options, run_metadata)\u001b[0m\n\u001b[1;32m    765\u001b[0m     \u001b[0;32mtry\u001b[0m\u001b[0;34m:\u001b[0m\u001b[0;34m\u001b[0m\u001b[0m\n\u001b[1;32m    766\u001b[0m       result = self._run(None, fetches, feed_dict, options_ptr,\n\u001b[0;32m--> 767\u001b[0;31m                          run_metadata_ptr)\n\u001b[0m\u001b[1;32m    768\u001b[0m       \u001b[0;32mif\u001b[0m \u001b[0mrun_metadata\u001b[0m\u001b[0;34m:\u001b[0m\u001b[0;34m\u001b[0m\u001b[0m\n\u001b[1;32m    769\u001b[0m         \u001b[0mproto_data\u001b[0m \u001b[0;34m=\u001b[0m \u001b[0mtf_session\u001b[0m\u001b[0;34m.\u001b[0m\u001b[0mTF_GetBuffer\u001b[0m\u001b[0;34m(\u001b[0m\u001b[0mrun_metadata_ptr\u001b[0m\u001b[0;34m)\u001b[0m\u001b[0;34m\u001b[0m\u001b[0m\n",
      "\u001b[0;32m/home/lina/bin/anaconda3/envs/udacity-tv-script/lib/python3.6/site-packages/tensorflow/python/client/session.py\u001b[0m in \u001b[0;36m_run\u001b[0;34m(self, handle, fetches, feed_dict, options, run_metadata)\u001b[0m\n\u001b[1;32m    963\u001b[0m     \u001b[0;32mif\u001b[0m \u001b[0mfinal_fetches\u001b[0m \u001b[0;32mor\u001b[0m \u001b[0mfinal_targets\u001b[0m\u001b[0;34m:\u001b[0m\u001b[0;34m\u001b[0m\u001b[0m\n\u001b[1;32m    964\u001b[0m       results = self._do_run(handle, final_targets, final_fetches,\n\u001b[0;32m--> 965\u001b[0;31m                              feed_dict_string, options, run_metadata)\n\u001b[0m\u001b[1;32m    966\u001b[0m     \u001b[0;32melse\u001b[0m\u001b[0;34m:\u001b[0m\u001b[0;34m\u001b[0m\u001b[0m\n\u001b[1;32m    967\u001b[0m       \u001b[0mresults\u001b[0m \u001b[0;34m=\u001b[0m \u001b[0;34m[\u001b[0m\u001b[0;34m]\u001b[0m\u001b[0;34m\u001b[0m\u001b[0m\n",
      "\u001b[0;32m/home/lina/bin/anaconda3/envs/udacity-tv-script/lib/python3.6/site-packages/tensorflow/python/client/session.py\u001b[0m in \u001b[0;36m_do_run\u001b[0;34m(self, handle, target_list, fetch_list, feed_dict, options, run_metadata)\u001b[0m\n\u001b[1;32m   1013\u001b[0m     \u001b[0;32mif\u001b[0m \u001b[0mhandle\u001b[0m \u001b[0;32mis\u001b[0m \u001b[0;32mNone\u001b[0m\u001b[0;34m:\u001b[0m\u001b[0;34m\u001b[0m\u001b[0m\n\u001b[1;32m   1014\u001b[0m       return self._do_call(_run_fn, self._session, feed_dict, fetch_list,\n\u001b[0;32m-> 1015\u001b[0;31m                            target_list, options, run_metadata)\n\u001b[0m\u001b[1;32m   1016\u001b[0m     \u001b[0;32melse\u001b[0m\u001b[0;34m:\u001b[0m\u001b[0;34m\u001b[0m\u001b[0m\n\u001b[1;32m   1017\u001b[0m       return self._do_call(_prun_fn, self._session, handle, feed_dict,\n",
      "\u001b[0;32m/home/lina/bin/anaconda3/envs/udacity-tv-script/lib/python3.6/site-packages/tensorflow/python/client/session.py\u001b[0m in \u001b[0;36m_do_call\u001b[0;34m(self, fn, *args)\u001b[0m\n\u001b[1;32m   1020\u001b[0m   \u001b[0;32mdef\u001b[0m \u001b[0m_do_call\u001b[0m\u001b[0;34m(\u001b[0m\u001b[0mself\u001b[0m\u001b[0;34m,\u001b[0m \u001b[0mfn\u001b[0m\u001b[0;34m,\u001b[0m \u001b[0;34m*\u001b[0m\u001b[0margs\u001b[0m\u001b[0;34m)\u001b[0m\u001b[0;34m:\u001b[0m\u001b[0;34m\u001b[0m\u001b[0m\n\u001b[1;32m   1021\u001b[0m     \u001b[0;32mtry\u001b[0m\u001b[0;34m:\u001b[0m\u001b[0;34m\u001b[0m\u001b[0m\n\u001b[0;32m-> 1022\u001b[0;31m       \u001b[0;32mreturn\u001b[0m \u001b[0mfn\u001b[0m\u001b[0;34m(\u001b[0m\u001b[0;34m*\u001b[0m\u001b[0margs\u001b[0m\u001b[0;34m)\u001b[0m\u001b[0;34m\u001b[0m\u001b[0m\n\u001b[0m\u001b[1;32m   1023\u001b[0m     \u001b[0;32mexcept\u001b[0m \u001b[0merrors\u001b[0m\u001b[0;34m.\u001b[0m\u001b[0mOpError\u001b[0m \u001b[0;32mas\u001b[0m \u001b[0me\u001b[0m\u001b[0;34m:\u001b[0m\u001b[0;34m\u001b[0m\u001b[0m\n\u001b[1;32m   1024\u001b[0m       \u001b[0mmessage\u001b[0m \u001b[0;34m=\u001b[0m \u001b[0mcompat\u001b[0m\u001b[0;34m.\u001b[0m\u001b[0mas_text\u001b[0m\u001b[0;34m(\u001b[0m\u001b[0me\u001b[0m\u001b[0;34m.\u001b[0m\u001b[0mmessage\u001b[0m\u001b[0;34m)\u001b[0m\u001b[0;34m\u001b[0m\u001b[0m\n",
      "\u001b[0;32m/home/lina/bin/anaconda3/envs/udacity-tv-script/lib/python3.6/site-packages/tensorflow/python/client/session.py\u001b[0m in \u001b[0;36m_run_fn\u001b[0;34m(session, feed_dict, fetch_list, target_list, options, run_metadata)\u001b[0m\n\u001b[1;32m   1002\u001b[0m         return tf_session.TF_Run(session, options,\n\u001b[1;32m   1003\u001b[0m                                  \u001b[0mfeed_dict\u001b[0m\u001b[0;34m,\u001b[0m \u001b[0mfetch_list\u001b[0m\u001b[0;34m,\u001b[0m \u001b[0mtarget_list\u001b[0m\u001b[0;34m,\u001b[0m\u001b[0;34m\u001b[0m\u001b[0m\n\u001b[0;32m-> 1004\u001b[0;31m                                  status, run_metadata)\n\u001b[0m\u001b[1;32m   1005\u001b[0m \u001b[0;34m\u001b[0m\u001b[0m\n\u001b[1;32m   1006\u001b[0m     \u001b[0;32mdef\u001b[0m \u001b[0m_prun_fn\u001b[0m\u001b[0;34m(\u001b[0m\u001b[0msession\u001b[0m\u001b[0;34m,\u001b[0m \u001b[0mhandle\u001b[0m\u001b[0;34m,\u001b[0m \u001b[0mfeed_dict\u001b[0m\u001b[0;34m,\u001b[0m \u001b[0mfetch_list\u001b[0m\u001b[0;34m)\u001b[0m\u001b[0;34m:\u001b[0m\u001b[0;34m\u001b[0m\u001b[0m\n",
      "\u001b[0;31mKeyboardInterrupt\u001b[0m: "
     ]
    }
   ],
   "source": [
    "\"\"\"\n",
    "MODIFIED VERSION FOR EXPERIMENTING WITH HYPERPARAMS\n",
    "\"\"\"\n",
    "import time\n",
    "batches = get_batches(int_text[:-batch_size*seq_length-1], batch_size, seq_length)\n",
    "val_batches=get_batches(int_text[-batch_size*seq_length-1:],batch_size, seq_length)\n",
    "\n",
    "with tf.Session(graph=train_graph) as sess:\n",
    "    sess.run(tf.global_variables_initializer())\n",
    "\n",
    "    for epoch_i in range(num_epochs):\n",
    "        state = sess.run(initial_state, {input_text: batches[0][0]})\n",
    "        duration=[]\n",
    "        #np.random.shuffle(batches)\n",
    "        for batch_i, (x, y) in enumerate(batches):\n",
    "            start_time=time.time()\n",
    "            feed = {\n",
    "                input_text: x,\n",
    "                targets: y,\n",
    "                initial_state: state,\n",
    "                lr: learning_rate}\n",
    "            train_loss, state, _ = sess.run([cost, final_state, train_op], feed)\n",
    "            duration.append(time.time()-start_time)  \n",
    "\n",
    "            # Show every <show_every_n_batches> batches\n",
    "            if (epoch_i * len(batches) + batch_i) % show_every_n_batches == 0:\n",
    "                val_loss=[]\n",
    "                for (x, y) in val_batches:\n",
    "                    feed = {\n",
    "                        input_text: x,\n",
    "                        targets: y\n",
    "                        }\n",
    "                    val_loss.append(sess.run([cost], feed))\n",
    "                print('Epoch {:>3} Batch {:>4}/{} b_duration = {:>.2f}s  train_loss = {:.3f} validation loss = {:.3f}'.format(\n",
    "                    epoch_i,\n",
    "                    batch_i,\n",
    "                    len(batches),\n",
    "                    np.average(duration),\n",
    "                    train_loss,\n",
    "                    np.average(val_loss)))\n",
    "        print(\"Total time for epoch {:.<2f} secs \".format(np.sum(duration)))\n",
    "        # Save Model\n",
    "        saver = tf.train.Saver()\n",
    "        saver.save(sess, save_dir+\"_\"+str(epoch_i))\n",
    "        print('Model Trained and Saved')"
   ]
  },
  {
   "cell_type": "code",
   "execution_count": 39,
   "metadata": {},
   "outputs": [
    {
     "name": "stdout",
     "output_type": "stream",
     "text": [
      "Epoch   0 Batch    0/21   train_loss = 8.822\n",
      "Epoch   0 Batch   10/21   train_loss = 6.803\n",
      "Epoch   0 Batch   20/21   train_loss = 6.864\n",
      "Epoch   1 Batch    9/21   train_loss = 6.049\n",
      "Epoch   1 Batch   19/21   train_loss = 5.878\n",
      "Epoch   2 Batch    8/21   train_loss = 5.598\n",
      "Epoch   2 Batch   18/21   train_loss = 5.297\n",
      "Epoch   3 Batch    7/21   train_loss = 5.048\n",
      "Epoch   3 Batch   17/21   train_loss = 4.883\n",
      "Epoch   4 Batch    6/21   train_loss = 4.799\n",
      "Epoch   4 Batch   16/21   train_loss = 4.675\n",
      "Epoch   5 Batch    5/21   train_loss = 4.452\n",
      "Epoch   5 Batch   15/21   train_loss = 4.406\n",
      "Epoch   6 Batch    4/21   train_loss = 4.436\n",
      "Epoch   6 Batch   14/21   train_loss = 4.139\n",
      "Epoch   7 Batch    3/21   train_loss = 4.145\n",
      "Epoch   7 Batch   13/21   train_loss = 4.094\n",
      "Epoch   8 Batch    2/21   train_loss = 4.022\n",
      "Epoch   8 Batch   12/21   train_loss = 3.911\n",
      "Epoch   9 Batch    1/21   train_loss = 3.817\n",
      "Epoch   9 Batch   11/21   train_loss = 3.706\n",
      "Epoch  10 Batch    0/21   train_loss = 3.698\n",
      "Epoch  10 Batch   10/21   train_loss = 3.505\n",
      "Epoch  10 Batch   20/21   train_loss = 3.621\n",
      "Epoch  11 Batch    9/21   train_loss = 3.436\n",
      "Epoch  11 Batch   19/21   train_loss = 3.336\n",
      "Epoch  12 Batch    8/21   train_loss = 3.304\n",
      "Epoch  12 Batch   18/21   train_loss = 3.247\n",
      "Epoch  13 Batch    7/21   train_loss = 3.156\n",
      "Epoch  13 Batch   17/21   train_loss = 3.076\n",
      "Epoch  14 Batch    6/21   train_loss = 3.087\n",
      "Epoch  14 Batch   16/21   train_loss = 2.898\n",
      "Epoch  15 Batch    5/21   train_loss = 2.976\n",
      "Epoch  15 Batch   15/21   train_loss = 2.850\n",
      "Epoch  16 Batch    4/21   train_loss = 2.836\n",
      "Epoch  16 Batch   14/21   train_loss = 2.618\n",
      "Epoch  17 Batch    3/21   train_loss = 2.707\n",
      "Epoch  17 Batch   13/21   train_loss = 2.638\n",
      "Epoch  18 Batch    2/21   train_loss = 2.677\n",
      "Epoch  18 Batch   12/21   train_loss = 2.498\n",
      "Epoch  19 Batch    1/21   train_loss = 2.387\n",
      "Epoch  19 Batch   11/21   train_loss = 2.419\n",
      "Epoch  20 Batch    0/21   train_loss = 2.364\n",
      "Epoch  20 Batch   10/21   train_loss = 2.314\n",
      "Epoch  20 Batch   20/21   train_loss = 2.359\n",
      "Epoch  21 Batch    9/21   train_loss = 2.219\n",
      "Epoch  21 Batch   19/21   train_loss = 2.153\n",
      "Epoch  22 Batch    8/21   train_loss = 2.194\n",
      "Epoch  22 Batch   18/21   train_loss = 2.162\n",
      "Epoch  23 Batch    7/21   train_loss = 2.069\n",
      "Epoch  23 Batch   17/21   train_loss = 2.073\n",
      "Epoch  24 Batch    6/21   train_loss = 2.024\n",
      "Epoch  24 Batch   16/21   train_loss = 1.975\n",
      "Epoch  25 Batch    5/21   train_loss = 2.016\n",
      "Epoch  25 Batch   15/21   train_loss = 2.002\n",
      "Epoch  26 Batch    4/21   train_loss = 1.935\n",
      "Epoch  26 Batch   14/21   train_loss = 1.790\n",
      "Epoch  27 Batch    3/21   train_loss = 1.813\n",
      "Epoch  27 Batch   13/21   train_loss = 1.829\n",
      "Epoch  28 Batch    2/21   train_loss = 1.884\n",
      "Epoch  28 Batch   12/21   train_loss = 1.701\n",
      "Epoch  29 Batch    1/21   train_loss = 1.660\n",
      "Epoch  29 Batch   11/21   train_loss = 1.616\n",
      "Epoch  30 Batch    0/21   train_loss = 1.660\n",
      "Epoch  30 Batch   10/21   train_loss = 1.555\n",
      "Epoch  30 Batch   20/21   train_loss = 1.665\n",
      "Epoch  31 Batch    9/21   train_loss = 1.523\n",
      "Epoch  31 Batch   19/21   train_loss = 1.553\n",
      "Epoch  32 Batch    8/21   train_loss = 1.597\n",
      "Epoch  32 Batch   18/21   train_loss = 1.546\n",
      "Epoch  33 Batch    7/21   train_loss = 1.465\n",
      "Epoch  33 Batch   17/21   train_loss = 1.416\n",
      "Epoch  34 Batch    6/21   train_loss = 1.452\n",
      "Epoch  34 Batch   16/21   train_loss = 1.395\n",
      "Epoch  35 Batch    5/21   train_loss = 1.475\n",
      "Epoch  35 Batch   15/21   train_loss = 1.421\n",
      "Epoch  36 Batch    4/21   train_loss = 1.327\n",
      "Epoch  36 Batch   14/21   train_loss = 1.225\n",
      "Epoch  37 Batch    3/21   train_loss = 1.213\n",
      "Epoch  37 Batch   13/21   train_loss = 1.237\n",
      "Epoch  38 Batch    2/21   train_loss = 1.304\n",
      "Epoch  38 Batch   12/21   train_loss = 1.149\n",
      "Epoch  39 Batch    1/21   train_loss = 1.093\n",
      "Epoch  39 Batch   11/21   train_loss = 1.104\n",
      "Epoch  40 Batch    0/21   train_loss = 1.116\n",
      "Epoch  40 Batch   10/21   train_loss = 1.052\n",
      "Epoch  40 Batch   20/21   train_loss = 1.150\n",
      "Epoch  41 Batch    9/21   train_loss = 0.989\n",
      "Epoch  41 Batch   19/21   train_loss = 0.983\n",
      "Epoch  42 Batch    8/21   train_loss = 1.005\n",
      "Epoch  42 Batch   18/21   train_loss = 1.016\n",
      "Epoch  43 Batch    7/21   train_loss = 0.973\n",
      "Epoch  43 Batch   17/21   train_loss = 0.963\n",
      "Epoch  44 Batch    6/21   train_loss = 0.908\n",
      "Epoch  44 Batch   16/21   train_loss = 0.885\n",
      "Epoch  45 Batch    5/21   train_loss = 0.898\n",
      "Epoch  45 Batch   15/21   train_loss = 0.885\n",
      "Epoch  46 Batch    4/21   train_loss = 0.839\n",
      "Epoch  46 Batch   14/21   train_loss = 0.806\n",
      "Epoch  47 Batch    3/21   train_loss = 0.820\n",
      "Epoch  47 Batch   13/21   train_loss = 0.796\n",
      "Epoch  48 Batch    2/21   train_loss = 0.849\n",
      "Epoch  48 Batch   12/21   train_loss = 0.742\n",
      "Epoch  49 Batch    1/21   train_loss = 0.722\n",
      "Epoch  49 Batch   11/21   train_loss = 0.761\n",
      "Epoch  50 Batch    0/21   train_loss = 0.796\n",
      "Epoch  50 Batch   10/21   train_loss = 0.702\n",
      "Epoch  50 Batch   20/21   train_loss = 0.783\n",
      "Epoch  51 Batch    9/21   train_loss = 0.676\n",
      "Epoch  51 Batch   19/21   train_loss = 0.714\n",
      "Epoch  52 Batch    8/21   train_loss = 0.720\n",
      "Epoch  52 Batch   18/21   train_loss = 0.740\n",
      "Epoch  53 Batch    7/21   train_loss = 0.696\n",
      "Epoch  53 Batch   17/21   train_loss = 0.712\n",
      "Epoch  54 Batch    6/21   train_loss = 0.674\n",
      "Epoch  54 Batch   16/21   train_loss = 0.667\n",
      "Epoch  55 Batch    5/21   train_loss = 0.691\n",
      "Epoch  55 Batch   15/21   train_loss = 0.662\n",
      "Epoch  56 Batch    4/21   train_loss = 0.644\n",
      "Epoch  56 Batch   14/21   train_loss = 0.590\n",
      "Epoch  57 Batch    3/21   train_loss = 0.633\n",
      "Epoch  57 Batch   13/21   train_loss = 0.600\n",
      "Epoch  58 Batch    2/21   train_loss = 0.671\n",
      "Epoch  58 Batch   12/21   train_loss = 0.599\n",
      "Epoch  59 Batch    1/21   train_loss = 0.603\n",
      "Epoch  59 Batch   11/21   train_loss = 0.661\n",
      "Epoch  60 Batch    0/21   train_loss = 0.670\n",
      "Epoch  60 Batch   10/21   train_loss = 0.598\n",
      "Epoch  60 Batch   20/21   train_loss = 0.647\n",
      "Epoch  61 Batch    9/21   train_loss = 0.566\n",
      "Epoch  61 Batch   19/21   train_loss = 0.591\n",
      "Epoch  62 Batch    8/21   train_loss = 0.618\n",
      "Epoch  62 Batch   18/21   train_loss = 0.647\n",
      "Epoch  63 Batch    7/21   train_loss = 0.673\n",
      "Epoch  63 Batch   17/21   train_loss = 0.646\n",
      "Epoch  64 Batch    6/21   train_loss = 0.583\n",
      "Epoch  64 Batch   16/21   train_loss = 0.552\n",
      "Epoch  65 Batch    5/21   train_loss = 0.551\n",
      "Epoch  65 Batch   15/21   train_loss = 0.538\n",
      "Epoch  66 Batch    4/21   train_loss = 0.513\n",
      "Epoch  66 Batch   14/21   train_loss = 0.477\n",
      "Epoch  67 Batch    3/21   train_loss = 0.487\n",
      "Epoch  67 Batch   13/21   train_loss = 0.439\n",
      "Epoch  68 Batch    2/21   train_loss = 0.477\n",
      "Epoch  68 Batch   12/21   train_loss = 0.401\n",
      "Epoch  69 Batch    1/21   train_loss = 0.384\n",
      "Epoch  69 Batch   11/21   train_loss = 0.413\n",
      "Epoch  70 Batch    0/21   train_loss = 0.411\n",
      "Epoch  70 Batch   10/21   train_loss = 0.345\n",
      "Epoch  70 Batch   20/21   train_loss = 0.382\n",
      "Epoch  71 Batch    9/21   train_loss = 0.349\n",
      "Epoch  71 Batch   19/21   train_loss = 0.359\n",
      "Epoch  72 Batch    8/21   train_loss = 0.358\n",
      "Epoch  72 Batch   18/21   train_loss = 0.359\n",
      "Epoch  73 Batch    7/21   train_loss = 0.353\n",
      "Epoch  73 Batch   17/21   train_loss = 0.335\n",
      "Epoch  74 Batch    6/21   train_loss = 0.328\n",
      "Epoch  74 Batch   16/21   train_loss = 0.314\n",
      "Epoch  75 Batch    5/21   train_loss = 0.315\n",
      "Epoch  75 Batch   15/21   train_loss = 0.322\n",
      "Epoch  76 Batch    4/21   train_loss = 0.315\n",
      "Epoch  76 Batch   14/21   train_loss = 0.277\n",
      "Epoch  77 Batch    3/21   train_loss = 0.312\n",
      "Epoch  77 Batch   13/21   train_loss = 0.290\n",
      "Epoch  78 Batch    2/21   train_loss = 0.331\n",
      "Epoch  78 Batch   12/21   train_loss = 0.270\n",
      "Epoch  79 Batch    1/21   train_loss = 0.274\n",
      "Epoch  79 Batch   11/21   train_loss = 0.307\n",
      "Epoch  80 Batch    0/21   train_loss = 0.314\n",
      "Epoch  80 Batch   10/21   train_loss = 0.260\n",
      "Epoch  80 Batch   20/21   train_loss = 0.277\n",
      "Epoch  81 Batch    9/21   train_loss = 0.267\n",
      "Epoch  81 Batch   19/21   train_loss = 0.276\n",
      "Epoch  82 Batch    8/21   train_loss = 0.275\n",
      "Epoch  82 Batch   18/21   train_loss = 0.278\n",
      "Epoch  83 Batch    7/21   train_loss = 0.273\n",
      "Epoch  83 Batch   17/21   train_loss = 0.267\n",
      "Epoch  84 Batch    6/21   train_loss = 0.267\n",
      "Epoch  84 Batch   16/21   train_loss = 0.261\n",
      "Epoch  85 Batch    5/21   train_loss = 0.259\n",
      "Epoch  85 Batch   15/21   train_loss = 0.268\n",
      "Epoch  86 Batch    4/21   train_loss = 0.272\n",
      "Epoch  86 Batch   14/21   train_loss = 0.241\n"
     ]
    },
    {
     "name": "stdout",
     "output_type": "stream",
     "text": [
      "Epoch  87 Batch    3/21   train_loss = 0.267\n",
      "Epoch  87 Batch   13/21   train_loss = 0.259\n",
      "Epoch  88 Batch    2/21   train_loss = 0.296\n",
      "Epoch  88 Batch   12/21   train_loss = 0.250\n",
      "Epoch  89 Batch    1/21   train_loss = 0.261\n",
      "Epoch  89 Batch   11/21   train_loss = 0.300\n",
      "Epoch  90 Batch    0/21   train_loss = 0.309\n",
      "Epoch  90 Batch   10/21   train_loss = 0.278\n",
      "Epoch  90 Batch   20/21   train_loss = 0.328\n",
      "Epoch  91 Batch    9/21   train_loss = 0.309\n",
      "Epoch  91 Batch   19/21   train_loss = 0.312\n",
      "Epoch  92 Batch    8/21   train_loss = 0.335\n",
      "Epoch  92 Batch   18/21   train_loss = 0.360\n",
      "Epoch  93 Batch    7/21   train_loss = 0.351\n",
      "Epoch  93 Batch   17/21   train_loss = 0.384\n",
      "Epoch  94 Batch    6/21   train_loss = 0.376\n",
      "Epoch  94 Batch   16/21   train_loss = 0.370\n",
      "Epoch  95 Batch    5/21   train_loss = 0.397\n",
      "Epoch  95 Batch   15/21   train_loss = 0.425\n",
      "Epoch  96 Batch    4/21   train_loss = 0.425\n",
      "Epoch  96 Batch   14/21   train_loss = 0.437\n",
      "Epoch  97 Batch    3/21   train_loss = 0.460\n",
      "Epoch  97 Batch   13/21   train_loss = 0.476\n",
      "Epoch  98 Batch    2/21   train_loss = 0.521\n",
      "Epoch  98 Batch   12/21   train_loss = 0.468\n",
      "Epoch  99 Batch    1/21   train_loss = 0.463\n",
      "Epoch  99 Batch   11/21   train_loss = 0.490\n",
      "Model Trained and Saved\n"
     ]
    }
   ],
   "source": [
    "\"\"\"\n",
    "DON'T MODIFY ANYTHING IN THIS CELL\n",
    "\"\"\"\n",
    "batches = get_batches(int_text, batch_size, seq_length)\n",
    "\n",
    "with tf.Session(graph=train_graph) as sess:\n",
    "    sess.run(tf.global_variables_initializer())\n",
    "\n",
    "    for epoch_i in range(num_epochs):\n",
    "        state = sess.run(initial_state, {input_text: batches[0][0]})\n",
    "\n",
    "        for batch_i, (x, y) in enumerate(batches):\n",
    "            feed = {\n",
    "                input_text: x,\n",
    "                targets: y,\n",
    "                initial_state: state,\n",
    "                lr: learning_rate}\n",
    "            train_loss, state, _ = sess.run([cost, final_state, train_op], feed)\n",
    "\n",
    "            # Show every <show_every_n_batches> batches\n",
    "            if (epoch_i * len(batches) + batch_i) % show_every_n_batches == 0:\n",
    "                print('Epoch {:>3} Batch {:>4}/{}   train_loss = {:.3f}'.format(\n",
    "                    epoch_i,\n",
    "                    batch_i,\n",
    "                    len(batches),\n",
    "                    train_loss))\n",
    "\n",
    "    # Save Model\n",
    "    saver = tf.train.Saver()\n",
    "    saver.save(sess, save_dir)\n",
    "    print('Model Trained and Saved')"
   ]
  },
  {
   "cell_type": "markdown",
   "metadata": {},
   "source": [
    "## Save Parameters\n",
    "Save `seq_length` and `save_dir` for generating a new TV script."
   ]
  },
  {
   "cell_type": "code",
   "execution_count": 40,
   "metadata": {},
   "outputs": [],
   "source": [
    "\"\"\"\n",
    "DON'T MODIFY ANYTHING IN THIS CELL\n",
    "\"\"\"\n",
    "# Save parameters for checkpoint\n",
    "helper.save_params((seq_length, save_dir))"
   ]
  },
  {
   "cell_type": "markdown",
   "metadata": {},
   "source": [
    "# Checkpoint"
   ]
  },
  {
   "cell_type": "code",
   "execution_count": 41,
   "metadata": {},
   "outputs": [],
   "source": [
    "\"\"\"\n",
    "DON'T MODIFY ANYTHING IN THIS CELL\n",
    "\"\"\"\n",
    "import tensorflow as tf\n",
    "import numpy as np\n",
    "import helper\n",
    "import problem_unittests as tests\n",
    "\n",
    "_, vocab_to_int, int_to_vocab, token_dict = helper.load_preprocess()\n",
    "seq_length, load_dir = helper.load_params()\n"
   ]
  },
  {
   "cell_type": "markdown",
   "metadata": {},
   "source": [
    "## Implement Generate Functions\n",
    "### Get Tensors\n",
    "Get tensors from `loaded_graph` using the function [`get_tensor_by_name()`](https://www.tensorflow.org/api_docs/python/tf/Graph#get_tensor_by_name).  Get the tensors using the following names:\n",
    "- \"input:0\"\n",
    "- \"initial_state:0\"\n",
    "- \"final_state:0\"\n",
    "- \"probs:0\"\n",
    "\n",
    "Return the tensors in the following tuple `(InputTensor, InitialStateTensor, FinalStateTensor, ProbsTensor)` "
   ]
  },
  {
   "cell_type": "code",
   "execution_count": 42,
   "metadata": {},
   "outputs": [
    {
     "name": "stdout",
     "output_type": "stream",
     "text": [
      "Tests Passed\n"
     ]
    }
   ],
   "source": [
    "def get_tensors(loaded_graph):\n",
    "    \"\"\"\n",
    "    Get input, initial state, final state, and probabilities tensor from <loaded_graph>\n",
    "    :param loaded_graph: TensorFlow graph loaded from file\n",
    "    :return: Tuple (InputTensor, InitialStateTensor, FinalStateTensor, ProbsTensor)\n",
    "    \"\"\"\n",
    "    inputs = loaded_graph.get_tensor_by_name(\"input:0\") \n",
    "    initial_state = loaded_graph.get_tensor_by_name(\"initial_state:0\")   \n",
    "    final_state = loaded_graph.get_tensor_by_name(\"final_state:0\")   \n",
    "    probabilities = loaded_graph.get_tensor_by_name(\"probs:0\")   \n",
    "\n",
    "    return inputs, initial_state, final_state, probabilities\n",
    "\n",
    "\"\"\"\n",
    "DON'T MODIFY ANYTHING IN THIS CELL THAT IS BELOW THIS LINE\n",
    "\"\"\"\n",
    "tests.test_get_tensors(get_tensors)"
   ]
  },
  {
   "cell_type": "markdown",
   "metadata": {},
   "source": [
    "### Choose Word\n",
    "Implement the `pick_word()` function to select the next word using `probabilities`."
   ]
  },
  {
   "cell_type": "code",
   "execution_count": 44,
   "metadata": {},
   "outputs": [
    {
     "name": "stdout",
     "output_type": "stream",
     "text": [
      "Tests Passed\n"
     ]
    }
   ],
   "source": [
    "def pick_word(probabilities, int_to_vocab):\n",
    "    \"\"\"\n",
    "    Pick the next word in the generated text\n",
    "    :param probabilities: Probabilites of the next word\n",
    "    :param int_to_vocab: Dictionary of word ids as the keys and words as the values\n",
    "    :return: String of the predicted word\n",
    "    \"\"\"\n",
    "    sampled_id=np.random.choice(len(probabilities), 1, p=probabilities)    \n",
    "    return int_to_vocab[sampled_id[0]]\n",
    "\n",
    "\"\"\"\n",
    "DON'T MODIFY ANYTHING IN THIS CELL THAT IS BELOW THIS LINE\n",
    "\"\"\"\n",
    "tests.test_pick_word(pick_word)"
   ]
  },
  {
   "cell_type": "markdown",
   "metadata": {},
   "source": [
    "## Generate TV Script\n",
    "This will generate the TV script for you.  Set `gen_length` to the length of TV script you want to generate."
   ]
  },
  {
   "cell_type": "code",
   "execution_count": 45,
   "metadata": {},
   "outputs": [
    {
     "name": "stdout",
     "output_type": "stream",
     "text": [
      "moe_szyslak: an eighty-five yard field goal? you gotta be kidding me! refresh! refresh!\n",
      "nfl_narrator:... no only never friend named...(pause) joey joe joe mural!\n",
      "krusty_the_clown:(mad) mr. _zander: why i took away for a little dank.\n",
      "duffman:(bitter) there you have worse. people drink an enemy. pick up!\n",
      "book_club_member: anyone tries to stop me and wally to the bank. end up in a fevered pitch. a lot happier.\n",
      "lenny:(carl voice) i'm just here, homer. you got change that drop?... one time at the treasure on edner, i... and\" gay guide to springfield the springfield isotopes are time for hosting this.\" weekly reader star selection\" an deal.\n",
      "carl_carlson: well, we've all got that. i've been writin' creepy play.\n",
      "man:(too innocent grampa) now what does your crew of the leave.\n",
      "barney_gumble: be about pouring me...\n",
      "moe_szyslak: who'da tell me how to\n"
     ]
    }
   ],
   "source": [
    "gen_length = 200\n",
    "# homer_simpson, moe_szyslak, or Barney_Gumble\n",
    "prime_word = 'moe_szyslak'\n",
    "\n",
    "\"\"\"\n",
    "DON'T MODIFY ANYTHING IN THIS CELL THAT IS BELOW THIS LINE\n",
    "\"\"\"\n",
    "loaded_graph = tf.Graph()\n",
    "with tf.Session(graph=loaded_graph) as sess:\n",
    "    # Load saved model\n",
    "    loader = tf.train.import_meta_graph(load_dir + '.meta')\n",
    "    loader.restore(sess, load_dir)\n",
    "\n",
    "    # Get Tensors from loaded model\n",
    "    input_text, initial_state, final_state, probs = get_tensors(loaded_graph)\n",
    "\n",
    "    # Sentences generation setup\n",
    "    gen_sentences = [prime_word + ':']\n",
    "    prev_state = sess.run(initial_state, {input_text: np.array([[1]])})\n",
    "\n",
    "    # Generate sentences\n",
    "    for n in range(gen_length):\n",
    "        # Dynamic Input\n",
    "        dyn_input = [[vocab_to_int[word] for word in gen_sentences[-seq_length:]]]\n",
    "        dyn_seq_length = len(dyn_input[0])\n",
    "\n",
    "        # Get Prediction\n",
    "        probabilities, prev_state = sess.run(\n",
    "            [probs, final_state],\n",
    "            {input_text: dyn_input, initial_state: prev_state})\n",
    "        \n",
    "        pred_word = pick_word(probabilities[dyn_seq_length-1], int_to_vocab)\n",
    "\n",
    "        gen_sentences.append(pred_word)\n",
    "    \n",
    "    # Remove tokens\n",
    "    tv_script = ' '.join(gen_sentences)\n",
    "    for key, token in token_dict.items():\n",
    "        ending = ' ' if key in ['\\n', '(', '\"'] else ''\n",
    "        tv_script = tv_script.replace(' ' + token.lower(), key)\n",
    "    tv_script = tv_script.replace('\\n ', '\\n')\n",
    "    tv_script = tv_script.replace('( ', '(')\n",
    "        \n",
    "    print(tv_script)"
   ]
  },
  {
   "cell_type": "markdown",
   "metadata": {},
   "source": [
    "# The TV Script is Nonsensical\n",
    "It's ok if the TV script doesn't make any sense.  We trained on less than a megabyte of text.  In order to get good results, you'll have to use a smaller vocabulary or get more data.  Luckily there's more data!  As we mentioned in the beggining of this project, this is a subset of [another dataset](https://www.kaggle.com/wcukierski/the-simpsons-by-the-data).  We didn't have you train on all the data, because that would take too long.  However, you are free to train your neural network on all the data.  After you complete the project, of course.\n",
    "# Submitting This Project\n",
    "When submitting this project, make sure to run all the cells before saving the notebook. Save the notebook file as \"dlnd_tv_script_generation.ipynb\" and save it as a HTML file under \"File\" -> \"Download as\". Include the \"helper.py\" and \"problem_unittests.py\" files in your submission."
   ]
  },
  {
   "cell_type": "code",
   "execution_count": null,
   "metadata": {},
   "outputs": [],
   "source": []
  }
 ],
 "metadata": {
  "kernelspec": {
   "display_name": "udacity-tv",
   "language": "python",
   "name": "udacity-tv"
  },
  "language_info": {
   "codemirror_mode": {
    "name": "ipython",
    "version": 3
   },
   "file_extension": ".py",
   "mimetype": "text/x-python",
   "name": "python",
   "nbconvert_exporter": "python",
   "pygments_lexer": "ipython3",
   "version": "3.6.5"
  },
  "widgets": {
   "state": {},
   "version": "1.1.2"
  }
 },
 "nbformat": 4,
 "nbformat_minor": 1
}
